{
 "cells": [
  {
   "cell_type": "code",
   "execution_count": 11,
   "metadata": {},
   "outputs": [],
   "source": [
    "from bs4 import BeautifulSoup as bs\n",
    "import requests"
   ]
  },
  {
   "cell_type": "code",
   "execution_count": 87,
   "metadata": {},
   "outputs": [],
   "source": [
    "results=[]\n",
    "urls=[]"
   ]
  },
  {
   "cell_type": "code",
   "execution_count": 86,
   "metadata": {},
   "outputs": [],
   "source": [
    "pagenumber=1\n",
    "mainurl=\"https://github.com/search?l=R&p=\"+str(pagenumber)+\"&q=analytics&type=Repositories\"\n",
    "req=requests.get(mainurl)\n",
    "sp=bs(req.text,\"html.parser\")"
   ]
  },
  {
   "cell_type": "code",
   "execution_count": 88,
   "metadata": {},
   "outputs": [],
   "source": [
    "pages=sp.find(class_=\"pagination\").select(\"a\")[-2].get_text()\n",
    "pages=int(pages)"
   ]
  },
  {
   "cell_type": "code",
   "execution_count": 89,
   "metadata": {},
   "outputs": [],
   "source": [
    "el=sp.find_all(class_=\"repo-list-item\")\n",
    "loops=0"
   ]
  },
  {
   "cell_type": "code",
   "execution_count": 90,
   "metadata": {},
   "outputs": [],
   "source": [
    "for s in range(pages):\n",
    "    pagenumber=s+1\n",
    "    mainurl=\"https://github.com/search?l=R&p=\"+str(pagenumber)+\"&q=analytics&type=Repositories\"\n",
    "    \n",
    "    req=requests.get(mainurl)\n",
    "    sp=bs(req.text,\"html.parser\")\n",
    "    \n",
    "    el=sp.find_all(class_=\"repo-list-item\")\n",
    "    \n",
    "    for i in el:\n",
    "        language=i.find(attrs={\"itemprop\":\"programmingLanguage\"})\n",
    "        if language!=None:\n",
    "            language=language.get_text()\n",
    "            title=i.select(\"a\")[0].get_text()\n",
    "            lower=title.lower()\n",
    "            url=''\n",
    "            if language==\"Jupyter Notebook\" or language==\"R\":\n",
    "                ti=\"Analytics\".lower()\n",
    "                num=lower.find(ti)\n",
    "                if num!=-1:\n",
    "                    url=\"https://github.com/\"\n",
    "                    url=url+i.find(\"a\")[\"href\"].split(\"/\")[1]\n",
    "                    urls.append(url)\n",
    "    loops=loops+1"
   ]
  },
  {
   "cell_type": "code",
   "execution_count": 107,
   "metadata": {},
   "outputs": [
    {
     "data": {
      "text/plain": [
       "['https://github.com/TarekDib03',\n",
       " 'https://github.com/Tatvic',\n",
       " 'https://github.com/datasciencedojo',\n",
       " 'https://github.com/dupadhyaya',\n",
       " 'https://github.com/braverock',\n",
       " 'https://github.com/jcbonilla',\n",
       " 'https://github.com/DUanalytics',\n",
       " 'https://github.com/jdeboer',\n",
       " 'https://github.com/tevgeniou',\n",
       " 'https://github.com/phil8192',\n",
       " 'https://github.com/vopani',\n",
       " 'https://github.com/GoogleCloudPlatform',\n",
       " 'https://github.com/mcpasin',\n",
       " 'https://github.com/dipanjanS',\n",
       " 'https://github.com/RevolutionAnalytics',\n",
       " 'https://github.com/dupadhyaya',\n",
       " 'https://github.com/tevgeniou',\n",
       " 'https://github.com/R-Finance',\n",
       " 'https://github.com/vopani',\n",
       " 'https://github.com/paulgovan',\n",
       " 'https://github.com/ChrisBeeley',\n",
       " 'https://github.com/mcpasin',\n",
       " 'https://github.com/braverock',\n",
       " 'https://github.com/phil8192',\n",
       " 'https://github.com/Phippsy',\n",
       " 'https://github.com/byaxb',\n",
       " 'https://github.com/vopani',\n",
       " 'https://github.com/josepcurto',\n",
       " 'https://github.com/sudharsan13296',\n",
       " 'https://github.com/IronistM',\n",
       " 'https://github.com/Azure',\n",
       " 'https://github.com/gdwangh',\n",
       " 'https://github.com/vopani',\n",
       " 'https://github.com/Vamshee-Ambatipudi',\n",
       " 'https://github.com/burun',\n",
       " 'https://github.com/R-Finance',\n",
       " 'https://github.com/CleverTap',\n",
       " 'https://github.com/anishsingh20',\n",
       " 'https://github.com/vopani',\n",
       " 'https://github.com/monitoringartist',\n",
       " 'https://github.com/vopani',\n",
       " 'https://github.com/monitoringartist',\n",
       " 'https://github.com/MarkEdmondson1234',\n",
       " 'https://github.com/vopani',\n",
       " 'https://github.com/deldersveld',\n",
       " 'https://github.com/fissehab',\n",
       " 'https://github.com/ChrisBeeley',\n",
       " 'https://github.com/michaelpawlus',\n",
       " 'https://github.com/PacktPublishing',\n",
       " 'https://github.com/nakarumanchi',\n",
       " 'https://github.com/JerryWho',\n",
       " 'https://github.com/MastodonC',\n",
       " 'https://github.com/oconnoda']"
      ]
     },
     "execution_count": 107,
     "metadata": {},
     "output_type": "execute_result"
    }
   ],
   "source": [
    "urls"
   ]
  },
  {
   "cell_type": "code",
   "execution_count": 57,
   "metadata": {},
   "outputs": [
    {
     "data": {
      "text/plain": [
       "'Python'"
      ]
     },
     "execution_count": 57,
     "metadata": {},
     "output_type": "execute_result"
    }
   ],
   "source": [
    "el[0].find(attrs={\"itemprop\":\"programmingLanguage\"}).get_text()"
   ]
  },
  {
   "cell_type": "code",
   "execution_count": 69,
   "metadata": {},
   "outputs": [
    {
     "data": {
      "text/plain": [
       "'dipanjanS/text-analytics-with-python'"
      ]
     },
     "execution_count": 69,
     "metadata": {},
     "output_type": "execute_result"
    }
   ],
   "source": [
    "el[0].select(\"a\")[0].get_text()"
   ]
  },
  {
   "cell_type": "code",
   "execution_count": 92,
   "metadata": {},
   "outputs": [
    {
     "data": {
      "text/plain": [
       "'https://github.com/dipanjanS/text-analytics-with-python'"
      ]
     },
     "execution_count": 92,
     "metadata": {},
     "output_type": "execute_result"
    }
   ],
   "source": [
    "url=\"https://github.com\"+el[0].find(\"a\")[\"href\"]"
   ]
  }
 ],
 "metadata": {
  "kernelspec": {
   "display_name": "Python 3",
   "language": "python",
   "name": "python3"
  },
  "language_info": {
   "codemirror_mode": {
    "name": "ipython",
    "version": 3
   },
   "file_extension": ".py",
   "mimetype": "text/x-python",
   "name": "python",
   "nbconvert_exporter": "python",
   "pygments_lexer": "ipython3",
   "version": "3.7.4"
  }
 },
 "nbformat": 4,
 "nbformat_minor": 2
}
